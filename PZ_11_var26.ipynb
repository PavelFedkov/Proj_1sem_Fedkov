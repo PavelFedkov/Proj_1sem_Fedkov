{
  "nbformat": 4,
  "nbformat_minor": 0,
  "metadata": {
    "colab": {
      "name": "PZ_11_var26.ipynb",
      "provenance": [],
      "authorship_tag": "ABX9TyMOHl6mtc9Rn++CQSH1fDm+",
      "include_colab_link": true
    },
    "kernelspec": {
      "name": "python3",
      "display_name": "Python 3"
    },
    "language_info": {
      "name": "python"
    }
  },
  "cells": [
    {
      "cell_type": "markdown",
      "metadata": {
        "id": "view-in-github",
        "colab_type": "text"
      },
      "source": [
        "<a href=\"https://colab.research.google.com/github/PavelFedkov/Proj_1sem_Fedkov/blob/master/PZ_11_var26.ipynb\" target=\"_parent\"><img src=\"https://colab.research.google.com/assets/colab-badge.svg\" alt=\"Open In Colab\"/></a>"
      ]
    },
    {
      "cell_type": "markdown",
      "source": [
        ""
      ],
      "metadata": {
        "id": "gRyvQwTKcsNP"
      }
    },
    {
      "cell_type": "markdown",
      "source": [
        "PZ_3_1"
      ],
      "metadata": {
        "id": "fLCWdAz1cB6S"
      }
    },
    {
      "cell_type": "code",
      "execution_count": 1,
      "metadata": {
        "colab": {
          "base_uri": "https://localhost:8080/"
        },
        "id": "f3aPiW_Db8Ce",
        "outputId": "69270392-50b8-4ea3-b431-251737e1e9bf"
      },
      "outputs": [
        {
          "output_type": "stream",
          "name": "stdout",
          "text": [
            "Введите координату (X): 12\n",
            "Введите координату (Y): -32\n",
            "Координаты ( 12 ; -32 ) лежат в четвёртой координатной четверти.\n"
          ]
        }
      ],
      "source": [
        "# Даны числа X, Y. Проверить истинность высказывания «Точка с координатами (X, Y)\n",
        "# лежит в четвёртой координатной четверти».\n",
        "\n",
        "X = input(\"Введите координату (X): \")\n",
        "Y = input(\"Введите координату (Y): \")\n",
        "\n",
        "# Проверка на ввод числа не буквы.\n",
        "while X != int:\n",
        "    try:\n",
        "        X = int(X)\n",
        "        Y = int(Y)\n",
        "        break\n",
        "    except ValueError:\n",
        "        print(\"Неверные единицы данных\")\n",
        "        X = input(\"Введите координату (X): \")\n",
        "        Y = input(\"Введите координату (Y): \")\n",
        "\n",
        "#Выполнение действия с условием.\n",
        "if X > 0 and Y < 0:\n",
        "    print(\"Координаты (\",X,\";\",Y,\") лежат в четвёртой координатной четверти.\")\n",
        "else:\n",
        "    print(\"Координаты (\",X,\";\",Y,\")  не лежат в четвёртой координатной четверти.\")"
      ]
    },
    {
      "cell_type": "markdown",
      "source": [
        "PZ_4_1"
      ],
      "metadata": {
        "id": "ADPiBFV9cLrn"
      }
    },
    {
      "cell_type": "code",
      "source": [
        "#Даны два целых числа A и B (A < B). Вывести в порядке убывания все целые числа, расположенные между A и B\n",
        "#(не включая числа A и B), а также количество N этих чисел.\n",
        "\n",
        "A = input(\"Введите число (A): \")\n",
        "B = input(\"Введите число (B): \")\n",
        "\n",
        "#Счётчик\n",
        "N = 0\n",
        "# Проверка на ввод числа не буквы.\n",
        "while True:\n",
        "    try:\n",
        "        A = int(A)\n",
        "        B = int(B)\n",
        "        break\n",
        "    except ValueError:\n",
        "        print(\"Неверная единица данных\")\n",
        "        A = input(\"Введите число (A): \")\n",
        "        B = input(\"Введите число (B): \")\n",
        "\n",
        "#Цикл с действием\n",
        "while True:\n",
        "    if A < B:\n",
        "        print(\"Перечень чисел\")\n",
        "        while B != A+1:\n",
        "            B -= 1\n",
        "            N += 1\n",
        "            print(B)\n",
        "        print(\"Количество чисел =\", N)\n",
        "        break\n",
        "    else:\n",
        "        print(\"Попробуйте поменять местами\")\n",
        "        A = input(\"Введите число (A): \")\n",
        "        B = input(\"Введите число (B): \")\n",
        "\n",
        "        while True:\n",
        "            try:\n",
        "                A = int(A)\n",
        "                B = int(B)\n",
        "                break\n",
        "            except ValueError:\n",
        "                print(\"Неверная единица данных\")\n",
        "                A = input(\"Введите число (A): \")\n",
        "                B = input(\"Введите число (B): \")\n"
      ],
      "metadata": {
        "colab": {
          "base_uri": "https://localhost:8080/"
        },
        "id": "lHnBzxIpcNtk",
        "outputId": "b2f9741e-4b6c-420d-8218-affeda5c0315"
      },
      "execution_count": 2,
      "outputs": [
        {
          "output_type": "stream",
          "name": "stdout",
          "text": [
            "Введите число (A): 1\n",
            "Введите число (B): 10\n",
            "Перечень чисел\n",
            "9\n",
            "8\n",
            "7\n",
            "6\n",
            "5\n",
            "4\n",
            "3\n",
            "2\n",
            "Количество чисел = 8\n"
          ]
        }
      ]
    },
    {
      "cell_type": "markdown",
      "source": [
        "PZ_5_1"
      ],
      "metadata": {
        "id": "4P_YhiORcUrG"
      }
    },
    {
      "cell_type": "code",
      "source": [
        "#Составить программу, в которой функцию построит изображение, в котором в первой\n",
        "#строке 1 звездочка, во второй - 2, в третьей -3, ..., в строке с номером m - m звездочек.\n",
        "\n",
        "def star():                     # Функция\n",
        "    for r in range(1, m +1):    # Цикл for с диапазоном выполнения от 1 до m+1\n",
        "        print(\"*\" * r)          #\n",
        "\n",
        "m = input(\"Введите число:  \")\n",
        "\n",
        "while m != int:                  # Проверка на число\n",
        "    try:\n",
        "        m = int(m)\n",
        "        break\n",
        "    except ValueError:\n",
        "        print(\"Неверные единицы данных\")\n",
        "        m = input(\"Введите число: \")\n",
        "star()     # Вызов функции"
      ],
      "metadata": {
        "colab": {
          "base_uri": "https://localhost:8080/"
        },
        "id": "9k35MQRrcXAt",
        "outputId": "ed242bd5-f892-479c-fadc-b8019d739999"
      },
      "execution_count": 3,
      "outputs": [
        {
          "output_type": "stream",
          "name": "stdout",
          "text": [
            "Введите число:  10\n",
            "*\n",
            "**\n",
            "***\n",
            "****\n",
            "*****\n",
            "******\n",
            "*******\n",
            "********\n",
            "*********\n",
            "**********\n"
          ]
        }
      ]
    }
  ]
}